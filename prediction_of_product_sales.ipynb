{
  "nbformat": 4,
  "nbformat_minor": 0,
  "metadata": {
    "colab": {
      "provenance": [],
      "authorship_tag": "ABX9TyORzKGcF2JkvbbgYlJPKvKb",
      "include_colab_link": true
    },
    "kernelspec": {
      "name": "python3",
      "display_name": "Python 3"
    },
    "language_info": {
      "name": "python"
    }
  },
  "cells": [
    {
      "cell_type": "markdown",
      "metadata": {
        "id": "view-in-github",
        "colab_type": "text"
      },
      "source": [
        "<a href=\"https://colab.research.google.com/github/FoozBarakat/Prediction-of-Product-Sales/blob/main/prediction_of_product_sales.ipynb\" target=\"_parent\"><img src=\"https://colab.research.google.com/assets/colab-badge.svg\" alt=\"Open In Colab\"/></a>"
      ]
    },
    {
      "cell_type": "markdown",
      "source": [
        "# Project Title: Prediction of Product Sales\n",
        "- Author: Fooz Barakat"
      ],
      "metadata": {
        "id": "7xkllMv0Hg7c"
      }
    },
    {
      "cell_type": "markdown",
      "source": [
        "## Project Overview"
      ],
      "metadata": {
        "id": "yWTCgFgSH4Zt"
      }
    },
    {
      "cell_type": "code",
      "source": [],
      "metadata": {
        "id": "eYKsbMZ6H9Lp"
      },
      "execution_count": null,
      "outputs": []
    },
    {
      "cell_type": "markdown",
      "source": [
        "## Load and Inspect Data"
      ],
      "metadata": {
        "id": "H_IVw7b2H_bP"
      }
    },
    {
      "cell_type": "code",
      "source": [],
      "metadata": {
        "id": "okk-f3hCICX_"
      },
      "execution_count": null,
      "outputs": []
    },
    {
      "cell_type": "markdown",
      "source": [
        "## Clean Data"
      ],
      "metadata": {
        "id": "Y-yh-7wuIDGY"
      }
    },
    {
      "cell_type": "code",
      "source": [],
      "metadata": {
        "id": "8hfzERvgIGWY"
      },
      "execution_count": null,
      "outputs": []
    },
    {
      "cell_type": "markdown",
      "source": [
        "## Exploratory Data Analysis"
      ],
      "metadata": {
        "id": "hK5zWuofIGzi"
      }
    },
    {
      "cell_type": "code",
      "source": [],
      "metadata": {
        "id": "rhcYf7MbIKZl"
      },
      "execution_count": null,
      "outputs": []
    },
    {
      "cell_type": "markdown",
      "source": [
        "## Feature Inspection"
      ],
      "metadata": {
        "id": "4KC5YKuVILZO"
      }
    },
    {
      "cell_type": "code",
      "source": [],
      "metadata": {
        "id": "5o_Elu4JIPPb"
      },
      "execution_count": null,
      "outputs": []
    }
  ]
}